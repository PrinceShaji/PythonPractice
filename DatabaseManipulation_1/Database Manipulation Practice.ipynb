{
 "cells": [
  {
   "cell_type": "raw",
   "metadata": {},
   "source": [
    "repo: https://github.com/PrinceShaji/PythonPractice/DatabaseManipulation_1"
   ]
  },
  {
   "cell_type": "markdown",
   "metadata": {},
   "source": [
    "### Opening a file and replacing the delimeter"
   ]
  },
  {
   "cell_type": "code",
   "execution_count": null,
   "metadata": {},
   "outputs": [],
   "source": [
    "import re\n",
    "\n",
    "\n",
    "for line in open('quotes.txt', 'r'):        #Reading the file.\n",
    "    line = re.sub(r\"','\", \"#|#\", line)      #Using regex to replace the delimiter.\n",
    "    line = line.strip()                     #To remove \\n\n",
    "    with open('qt_cleaned.txt', 'a') as f:  #Creating a new file to write the cleaned lines.\n",
    "        f.write(line + \"\\n\")\n",
    "        f.close()\n",
    "f.close()\n",
    "\n",
    "\n",
    "print(\"Completed\")\n"
   ]
  },
  {
   "cell_type": "markdown",
   "metadata": {},
   "source": [
    "### Getting the number of quotes"
   ]
  },
  {
   "cell_type": "code",
   "execution_count": null,
   "metadata": {},
   "outputs": [],
   "source": [
    "with open(\"qt_cleaned.txt\", 'r') as f:\n",
    "    for i, lines in enumerate(f):\n",
    "        pass\n",
    "    print(\"The number of quotes is: \", i+1)\n",
    "f.close()"
   ]
  },
  {
   "cell_type": "markdown",
   "metadata": {},
   "source": [
    "### Getting the number of authors"
   ]
  },
  {
   "cell_type": "code",
   "execution_count": null,
   "metadata": {},
   "outputs": [],
   "source": [
    "authors = set()\n",
    "\n",
    "with open(\"qt_cleaned.txt\", 'r') as f:\n",
    "    for line in f:\n",
    "        authors.add(line.split(\"#|#\")[0])        #Splits the line at the new delimeter and adding index 0 to the set.\n",
    "f.close()\n",
    "\n",
    "print(\"The number of authors is:\", len(authors))\n"
   ]
  },
  {
   "cell_type": "markdown",
   "metadata": {},
   "source": [
    "### Printing the names of authors (sorted by first name)"
   ]
  },
  {
   "cell_type": "code",
   "execution_count": null,
   "metadata": {},
   "outputs": [],
   "source": [
    "authors = set()                           #Using set to get unique values.\n",
    "\n",
    "with open(\"qt_cleaned.txt\", 'r') as f:\n",
    "    for line in f:\n",
    "        authors.add(line.split(\"#|#\")[0]) #Splitting at the ddelimiter and adding element at index 0 to the set.\n",
    "f.close()\n",
    "\n",
    "print(sorted(authors))\n"
   ]
  },
  {
   "cell_type": "markdown",
   "metadata": {},
   "source": [
    "### Printing the names of authors (sorted by last name)"
   ]
  },
  {
   "cell_type": "code",
   "execution_count": null,
   "metadata": {},
   "outputs": [],
   "source": [
    "authors = set()\n",
    "\n",
    "with open(\"qt_cleaned.txt\", 'r') as f:\n",
    "    for line in f:\n",
    "        authors.add(line.split(\"#|#\")[0])\n",
    "f.close()\n",
    "\n",
    "\n",
    "print(sorted(authors, key = lambda x: x.split()[-1] )) \n",
    "\n",
    "#Key is run before sorting the set. The anonymous function splits each element and \n",
    "#selects the last name and sorts the set based on it.\n"
   ]
  },
  {
   "cell_type": "markdown",
   "metadata": {},
   "source": [
    "### Print out quotes of specific authors "
   ]
  },
  {
   "cell_type": "code",
   "execution_count": null,
   "metadata": {},
   "outputs": [],
   "source": [
    "quotes = []  #To temporarily store the quotes (for handling wrong inputs).\n",
    "\n",
    "with open(\"qt_cleaned.txt\", 'r') as f:\n",
    "    for line in f:\n",
    "        if line.startswith(\"Aaron Schwartz\"): # RIP Aaron Schwartz. You'll be missed.\n",
    "            quotes.append(line)            \n",
    "f.close()\n",
    "\n",
    "\n",
    "if len(quotes)==0:    #If the list is empty, it means the author is not found.\n",
    "    print(\"Author not found. Check the input or seacrch for another author!\")\n",
    "else:\n",
    "    for i in quotes:\n",
    "        i = i.split(\"#|#\")          \n",
    "        print(\"\\n\"+i[-1].strip(), \"\\n~\", i[0])  #Just for string formatting.\n",
    "        \n",
    "\n",
    "#https://www.youtube.com/watch?v=9vz06QO3UkQ"
   ]
  },
  {
   "cell_type": "markdown",
   "metadata": {},
   "source": [
    "### Getting the number of quotes per author (descending order of quotes)."
   ]
  },
  {
   "cell_type": "code",
   "execution_count": null,
   "metadata": {},
   "outputs": [],
   "source": [
    "dictionary = dict()\n",
    "\n",
    "with open('qt_cleaned.txt', 'r') as f:\n",
    "    for line in f:\n",
    "        if line.split(\"#|#\")[0] not in dictionary:\n",
    "            dictionary[line.split(\"#|#\")[0]] = 1      #If key not in dictionary, add it to the dictionary.\n",
    "        else:\n",
    "            dictionary[line.split(\"#|#\")[0]] += 1     #If key in dictionary, +1 to the value.\n",
    "f.close()\n",
    "\n",
    "\n",
    "\n",
    "#To sort the dictionary in descending order of values (Hence reverse = True).\n",
    "\n",
    "for x, y in sorted(dictionary.items(), key = lambda x: x[1], reverse = True):\n",
    "    print(x,y)"
   ]
  },
  {
   "cell_type": "code",
   "execution_count": null,
   "metadata": {},
   "outputs": [],
   "source": []
  }
 ],
 "metadata": {
  "kernelspec": {
   "display_name": "Python 3",
   "language": "python",
   "name": "python3"
  },
  "language_info": {
   "codemirror_mode": {
    "name": "ipython",
    "version": 3
   },
   "file_extension": ".py",
   "mimetype": "text/x-python",
   "name": "python",
   "nbconvert_exporter": "python",
   "pygments_lexer": "ipython3",
   "version": "3.7.2"
  }
 },
 "nbformat": 4,
 "nbformat_minor": 2
}
